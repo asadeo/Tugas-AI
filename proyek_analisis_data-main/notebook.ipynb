{
  "cells": [
    {
      "cell_type": "markdown",
      "metadata": {
        "id": "eE0raob58DC0"
      },
      "source": [
        "## Menentukan Pertanyaan Bisnis"
      ]
    },
    {
      "cell_type": "markdown",
      "metadata": {
        "id": "GmQeQ5YF8DC0"
      },
      "source": [
        "1. Berapa rata-rata jumlah pengguna sepeda pada hari kerja dibandingkan dengan hari libur?\n",
        "2. Bagaimana suhu mempengaruhi jumlah pengguna sepeda harian?"
      ]
    },
    {
      "cell_type": "markdown",
      "metadata": {
        "id": "H-z4QGlO8DC1"
      },
      "source": [
        "## Import Semua Packages/Library yang Digunakan"
      ]
    },
    {
      "cell_type": "code",
      "execution_count": 3,
      "metadata": {
        "id": "FVYwaObI8DC1"
      },
      "outputs": [],
      "source": [
        "#Mengimpor library yang dibutuhkan\n",
        "import pandas as pd\n",
        "import matplotlib.pyplot as plt\n",
        "import seaborn as sns"
      ]
    },
    {
      "cell_type": "markdown",
      "metadata": {
        "id": "h_Sh51Xy8DC1"
      },
      "source": [
        "## Data Wrangling"
      ]
    },
    {
      "cell_type": "markdown",
      "metadata": {
        "id": "sXU2GBYu8DC1"
      },
      "source": [
        "### Gathering Data"
      ]
    },
    {
      "cell_type": "code",
      "execution_count": 4,
      "metadata": {
        "id": "zjCBk1BI8DC1"
      },
      "outputs": [],
      "source": [
        "#Membaca dataset\n",
        "df = pd.read_csv('data/day.csv')"
      ]
    },
    {
      "cell_type": "code",
      "execution_count": 5,
      "metadata": {
        "colab": {
          "base_uri": "https://localhost:8080/",
          "height": 676
        },
        "id": "0AvB1SkeUNSw",
        "outputId": "d20d74e4-3c8e-4c94-c4e1-ffe34149f30c"
      },
      "outputs": [
        {
          "data": {
            "application/vnd.microsoft.datawrangler.viewer.v0+json": {
              "columns": [
                {
                  "name": "index",
                  "rawType": "int64",
                  "type": "integer"
                },
                {
                  "name": "instant",
                  "rawType": "int64",
                  "type": "integer"
                },
                {
                  "name": "dteday",
                  "rawType": "object",
                  "type": "string"
                },
                {
                  "name": "season",
                  "rawType": "int64",
                  "type": "integer"
                },
                {
                  "name": "yr",
                  "rawType": "int64",
                  "type": "integer"
                },
                {
                  "name": "mnth",
                  "rawType": "int64",
                  "type": "integer"
                },
                {
                  "name": "holiday",
                  "rawType": "int64",
                  "type": "integer"
                },
                {
                  "name": "weekday",
                  "rawType": "int64",
                  "type": "integer"
                },
                {
                  "name": "workingday",
                  "rawType": "int64",
                  "type": "integer"
                },
                {
                  "name": "weathersit",
                  "rawType": "int64",
                  "type": "integer"
                },
                {
                  "name": "temp",
                  "rawType": "float64",
                  "type": "float"
                },
                {
                  "name": "atemp",
                  "rawType": "float64",
                  "type": "float"
                },
                {
                  "name": "hum",
                  "rawType": "float64",
                  "type": "float"
                },
                {
                  "name": "windspeed",
                  "rawType": "float64",
                  "type": "float"
                },
                {
                  "name": "casual",
                  "rawType": "int64",
                  "type": "integer"
                },
                {
                  "name": "registered",
                  "rawType": "int64",
                  "type": "integer"
                },
                {
                  "name": "cnt",
                  "rawType": "int64",
                  "type": "integer"
                }
              ],
              "conversionMethod": "pd.DataFrame",
              "ref": "d7dbcb22-5aca-4f9f-8c19-f54d64942134",
              "rows": [
                [
                  "0",
                  "1",
                  "2011-01-01",
                  "1",
                  "0",
                  "1",
                  "0",
                  "6",
                  "0",
                  "2",
                  "0.344167",
                  "0.363625",
                  "0.805833",
                  "0.160446",
                  "331",
                  "654",
                  "985"
                ],
                [
                  "1",
                  "2",
                  "2011-01-02",
                  "1",
                  "0",
                  "1",
                  "0",
                  "0",
                  "0",
                  "2",
                  "0.363478",
                  "0.353739",
                  "0.696087",
                  "0.248539",
                  "131",
                  "670",
                  "801"
                ],
                [
                  "2",
                  "3",
                  "2011-01-03",
                  "1",
                  "0",
                  "1",
                  "0",
                  "1",
                  "1",
                  "1",
                  "0.196364",
                  "0.189405",
                  "0.437273",
                  "0.248309",
                  "120",
                  "1229",
                  "1349"
                ],
                [
                  "3",
                  "4",
                  "2011-01-04",
                  "1",
                  "0",
                  "1",
                  "0",
                  "2",
                  "1",
                  "1",
                  "0.2",
                  "0.212122",
                  "0.590435",
                  "0.160296",
                  "108",
                  "1454",
                  "1562"
                ],
                [
                  "4",
                  "5",
                  "2011-01-05",
                  "1",
                  "0",
                  "1",
                  "0",
                  "3",
                  "1",
                  "1",
                  "0.226957",
                  "0.22927",
                  "0.436957",
                  "0.1869",
                  "82",
                  "1518",
                  "1600"
                ],
                [
                  "5",
                  "6",
                  "2011-01-06",
                  "1",
                  "0",
                  "1",
                  "0",
                  "4",
                  "1",
                  "1",
                  "0.204348",
                  "0.233209",
                  "0.518261",
                  "0.0895652",
                  "88",
                  "1518",
                  "1606"
                ],
                [
                  "6",
                  "7",
                  "2011-01-07",
                  "1",
                  "0",
                  "1",
                  "0",
                  "5",
                  "1",
                  "2",
                  "0.196522",
                  "0.208839",
                  "0.498696",
                  "0.168726",
                  "148",
                  "1362",
                  "1510"
                ],
                [
                  "7",
                  "8",
                  "2011-01-08",
                  "1",
                  "0",
                  "1",
                  "0",
                  "6",
                  "0",
                  "2",
                  "0.165",
                  "0.162254",
                  "0.535833",
                  "0.266804",
                  "68",
                  "891",
                  "959"
                ],
                [
                  "8",
                  "9",
                  "2011-01-09",
                  "1",
                  "0",
                  "1",
                  "0",
                  "0",
                  "0",
                  "1",
                  "0.138333",
                  "0.116175",
                  "0.434167",
                  "0.36195",
                  "54",
                  "768",
                  "822"
                ],
                [
                  "9",
                  "10",
                  "2011-01-10",
                  "1",
                  "0",
                  "1",
                  "0",
                  "1",
                  "1",
                  "1",
                  "0.150833",
                  "0.150888",
                  "0.482917",
                  "0.223267",
                  "41",
                  "1280",
                  "1321"
                ]
              ],
              "shape": {
                "columns": 16,
                "rows": 10
              }
            },
            "text/html": [
              "<div>\n",
              "<style scoped>\n",
              "    .dataframe tbody tr th:only-of-type {\n",
              "        vertical-align: middle;\n",
              "    }\n",
              "\n",
              "    .dataframe tbody tr th {\n",
              "        vertical-align: top;\n",
              "    }\n",
              "\n",
              "    .dataframe thead th {\n",
              "        text-align: right;\n",
              "    }\n",
              "</style>\n",
              "<table border=\"1\" class=\"dataframe\">\n",
              "  <thead>\n",
              "    <tr style=\"text-align: right;\">\n",
              "      <th></th>\n",
              "      <th>instant</th>\n",
              "      <th>dteday</th>\n",
              "      <th>season</th>\n",
              "      <th>yr</th>\n",
              "      <th>mnth</th>\n",
              "      <th>holiday</th>\n",
              "      <th>weekday</th>\n",
              "      <th>workingday</th>\n",
              "      <th>weathersit</th>\n",
              "      <th>temp</th>\n",
              "      <th>atemp</th>\n",
              "      <th>hum</th>\n",
              "      <th>windspeed</th>\n",
              "      <th>casual</th>\n",
              "      <th>registered</th>\n",
              "      <th>cnt</th>\n",
              "    </tr>\n",
              "  </thead>\n",
              "  <tbody>\n",
              "    <tr>\n",
              "      <th>0</th>\n",
              "      <td>1</td>\n",
              "      <td>2011-01-01</td>\n",
              "      <td>1</td>\n",
              "      <td>0</td>\n",
              "      <td>1</td>\n",
              "      <td>0</td>\n",
              "      <td>6</td>\n",
              "      <td>0</td>\n",
              "      <td>2</td>\n",
              "      <td>0.344167</td>\n",
              "      <td>0.363625</td>\n",
              "      <td>0.805833</td>\n",
              "      <td>0.160446</td>\n",
              "      <td>331</td>\n",
              "      <td>654</td>\n",
              "      <td>985</td>\n",
              "    </tr>\n",
              "    <tr>\n",
              "      <th>1</th>\n",
              "      <td>2</td>\n",
              "      <td>2011-01-02</td>\n",
              "      <td>1</td>\n",
              "      <td>0</td>\n",
              "      <td>1</td>\n",
              "      <td>0</td>\n",
              "      <td>0</td>\n",
              "      <td>0</td>\n",
              "      <td>2</td>\n",
              "      <td>0.363478</td>\n",
              "      <td>0.353739</td>\n",
              "      <td>0.696087</td>\n",
              "      <td>0.248539</td>\n",
              "      <td>131</td>\n",
              "      <td>670</td>\n",
              "      <td>801</td>\n",
              "    </tr>\n",
              "    <tr>\n",
              "      <th>2</th>\n",
              "      <td>3</td>\n",
              "      <td>2011-01-03</td>\n",
              "      <td>1</td>\n",
              "      <td>0</td>\n",
              "      <td>1</td>\n",
              "      <td>0</td>\n",
              "      <td>1</td>\n",
              "      <td>1</td>\n",
              "      <td>1</td>\n",
              "      <td>0.196364</td>\n",
              "      <td>0.189405</td>\n",
              "      <td>0.437273</td>\n",
              "      <td>0.248309</td>\n",
              "      <td>120</td>\n",
              "      <td>1229</td>\n",
              "      <td>1349</td>\n",
              "    </tr>\n",
              "    <tr>\n",
              "      <th>3</th>\n",
              "      <td>4</td>\n",
              "      <td>2011-01-04</td>\n",
              "      <td>1</td>\n",
              "      <td>0</td>\n",
              "      <td>1</td>\n",
              "      <td>0</td>\n",
              "      <td>2</td>\n",
              "      <td>1</td>\n",
              "      <td>1</td>\n",
              "      <td>0.200000</td>\n",
              "      <td>0.212122</td>\n",
              "      <td>0.590435</td>\n",
              "      <td>0.160296</td>\n",
              "      <td>108</td>\n",
              "      <td>1454</td>\n",
              "      <td>1562</td>\n",
              "    </tr>\n",
              "    <tr>\n",
              "      <th>4</th>\n",
              "      <td>5</td>\n",
              "      <td>2011-01-05</td>\n",
              "      <td>1</td>\n",
              "      <td>0</td>\n",
              "      <td>1</td>\n",
              "      <td>0</td>\n",
              "      <td>3</td>\n",
              "      <td>1</td>\n",
              "      <td>1</td>\n",
              "      <td>0.226957</td>\n",
              "      <td>0.229270</td>\n",
              "      <td>0.436957</td>\n",
              "      <td>0.186900</td>\n",
              "      <td>82</td>\n",
              "      <td>1518</td>\n",
              "      <td>1600</td>\n",
              "    </tr>\n",
              "    <tr>\n",
              "      <th>5</th>\n",
              "      <td>6</td>\n",
              "      <td>2011-01-06</td>\n",
              "      <td>1</td>\n",
              "      <td>0</td>\n",
              "      <td>1</td>\n",
              "      <td>0</td>\n",
              "      <td>4</td>\n",
              "      <td>1</td>\n",
              "      <td>1</td>\n",
              "      <td>0.204348</td>\n",
              "      <td>0.233209</td>\n",
              "      <td>0.518261</td>\n",
              "      <td>0.089565</td>\n",
              "      <td>88</td>\n",
              "      <td>1518</td>\n",
              "      <td>1606</td>\n",
              "    </tr>\n",
              "    <tr>\n",
              "      <th>6</th>\n",
              "      <td>7</td>\n",
              "      <td>2011-01-07</td>\n",
              "      <td>1</td>\n",
              "      <td>0</td>\n",
              "      <td>1</td>\n",
              "      <td>0</td>\n",
              "      <td>5</td>\n",
              "      <td>1</td>\n",
              "      <td>2</td>\n",
              "      <td>0.196522</td>\n",
              "      <td>0.208839</td>\n",
              "      <td>0.498696</td>\n",
              "      <td>0.168726</td>\n",
              "      <td>148</td>\n",
              "      <td>1362</td>\n",
              "      <td>1510</td>\n",
              "    </tr>\n",
              "    <tr>\n",
              "      <th>7</th>\n",
              "      <td>8</td>\n",
              "      <td>2011-01-08</td>\n",
              "      <td>1</td>\n",
              "      <td>0</td>\n",
              "      <td>1</td>\n",
              "      <td>0</td>\n",
              "      <td>6</td>\n",
              "      <td>0</td>\n",
              "      <td>2</td>\n",
              "      <td>0.165000</td>\n",
              "      <td>0.162254</td>\n",
              "      <td>0.535833</td>\n",
              "      <td>0.266804</td>\n",
              "      <td>68</td>\n",
              "      <td>891</td>\n",
              "      <td>959</td>\n",
              "    </tr>\n",
              "    <tr>\n",
              "      <th>8</th>\n",
              "      <td>9</td>\n",
              "      <td>2011-01-09</td>\n",
              "      <td>1</td>\n",
              "      <td>0</td>\n",
              "      <td>1</td>\n",
              "      <td>0</td>\n",
              "      <td>0</td>\n",
              "      <td>0</td>\n",
              "      <td>1</td>\n",
              "      <td>0.138333</td>\n",
              "      <td>0.116175</td>\n",
              "      <td>0.434167</td>\n",
              "      <td>0.361950</td>\n",
              "      <td>54</td>\n",
              "      <td>768</td>\n",
              "      <td>822</td>\n",
              "    </tr>\n",
              "    <tr>\n",
              "      <th>9</th>\n",
              "      <td>10</td>\n",
              "      <td>2011-01-10</td>\n",
              "      <td>1</td>\n",
              "      <td>0</td>\n",
              "      <td>1</td>\n",
              "      <td>0</td>\n",
              "      <td>1</td>\n",
              "      <td>1</td>\n",
              "      <td>1</td>\n",
              "      <td>0.150833</td>\n",
              "      <td>0.150888</td>\n",
              "      <td>0.482917</td>\n",
              "      <td>0.223267</td>\n",
              "      <td>41</td>\n",
              "      <td>1280</td>\n",
              "      <td>1321</td>\n",
              "    </tr>\n",
              "  </tbody>\n",
              "</table>\n",
              "</div>"
            ],
            "text/plain": [
              "   instant      dteday  season  yr  mnth  holiday  weekday  workingday  \\\n",
              "0        1  2011-01-01       1   0     1        0        6           0   \n",
              "1        2  2011-01-02       1   0     1        0        0           0   \n",
              "2        3  2011-01-03       1   0     1        0        1           1   \n",
              "3        4  2011-01-04       1   0     1        0        2           1   \n",
              "4        5  2011-01-05       1   0     1        0        3           1   \n",
              "5        6  2011-01-06       1   0     1        0        4           1   \n",
              "6        7  2011-01-07       1   0     1        0        5           1   \n",
              "7        8  2011-01-08       1   0     1        0        6           0   \n",
              "8        9  2011-01-09       1   0     1        0        0           0   \n",
              "9       10  2011-01-10       1   0     1        0        1           1   \n",
              "\n",
              "   weathersit      temp     atemp       hum  windspeed  casual  registered  \\\n",
              "0           2  0.344167  0.363625  0.805833   0.160446     331         654   \n",
              "1           2  0.363478  0.353739  0.696087   0.248539     131         670   \n",
              "2           1  0.196364  0.189405  0.437273   0.248309     120        1229   \n",
              "3           1  0.200000  0.212122  0.590435   0.160296     108        1454   \n",
              "4           1  0.226957  0.229270  0.436957   0.186900      82        1518   \n",
              "5           1  0.204348  0.233209  0.518261   0.089565      88        1518   \n",
              "6           2  0.196522  0.208839  0.498696   0.168726     148        1362   \n",
              "7           2  0.165000  0.162254  0.535833   0.266804      68         891   \n",
              "8           1  0.138333  0.116175  0.434167   0.361950      54         768   \n",
              "9           1  0.150833  0.150888  0.482917   0.223267      41        1280   \n",
              "\n",
              "    cnt  \n",
              "0   985  \n",
              "1   801  \n",
              "2  1349  \n",
              "3  1562  \n",
              "4  1600  \n",
              "5  1606  \n",
              "6  1510  \n",
              "7   959  \n",
              "8   822  \n",
              "9  1321  "
            ]
          },
          "execution_count": 5,
          "metadata": {},
          "output_type": "execute_result"
        }
      ],
      "source": [
        "#Menampilkan baris pertama\n",
        "df.head(10)"
      ]
    },
    {
      "cell_type": "markdown",
      "metadata": {
        "id": "MMi6xGaDkbCi"
      },
      "source": [
        "**Insight:**\n",
        "\n",
        "Dataset day.csv berisi data mengenai penggunaan sepeda harian dari sistem bike-sharing. Berikut adalah deskripsi dari kolom-kolom yang ada:\n",
        "\n",
        "1. instant: ID unik untuk setiap baris.\n",
        "2. dteday: Tanggal observasi.\n",
        "3. Season dalam setahun, diwakili dengan angka:\n",
        "* 1: Musim Semi\n",
        "* 2: Musim Panas\n",
        "* 3: Musim Gugur\n",
        "* 4: Musim Dingin\n",
        "4. yr: Tahun, dengan 0 untuk tahun 2011 dan 1 untuk tahun 2012.\n",
        "5. mnth: Bulan dalam setahun (1 hingga 12).\n",
        "6. holiday: Apakah hari tersebut merupakan hari libur (1 jika hari libur, 0 jika tidak).\n",
        "7. weekday: Hari dalam minggu (0 - 6, di mana 0 adalah Minggu)..\n",
        "8. workingday: Apakah hari tersebut merupakan hari kerja (1 jika hari kerja, 0 jika tidak).\n",
        "9. weathersit: Kondisi cuaca, diwakili dengan angka:\n",
        "* 1: Cuaca cerah atau sedikit mendung.\n",
        "* 2: Cuaca berkabut atau mendung.\n",
        "* 3: Hujan ringan atau salju ringan.\n",
        "* 4: Hujan deras, badai, atau salju lebat.\n",
        "10. temp: Suhu normalisasi, nilai antara 0 hingga 1.\n",
        "11. atemp: Suhu terasa atau suhu yang dirasakan, nilai antara 0 hingga 1.\n",
        "12. hum: Kelembaban, nilai antara 0 hingga 1.\n",
        "13. windspeed: Kecepatan angin, nilai antara 0 hingga 1.\n",
        "14. casual: Jumlah pengguna sepeda non-terdaftar.\n",
        "15. registered: Jumlah pengguna sepeda terdaftar.\n",
        "16. cnt: Jumlah total pengguna sepeda (penjumlahan dari casual dan registered).\n",
        "\n",
        "Dataset ini menyediakan informasi yang dapat digunakan untuk menganalisis tren penggunaan sepeda berdasarkan berbagai faktor seperti musim, cuaca, dan waktu.\n"
      ]
    },
    {
      "cell_type": "markdown",
      "metadata": {
        "id": "FHSiqaZp8DC1"
      },
      "source": [
        "### Assessing Data"
      ]
    },
    {
      "cell_type": "markdown",
      "metadata": {
        "id": "GLWDgeALXSDh"
      },
      "source": [
        "**Menilai tabel**"
      ]
    },
    {
      "cell_type": "code",
      "execution_count": 4,
      "metadata": {
        "colab": {
          "base_uri": "https://localhost:8080/"
        },
        "id": "ax-3tEjc9Cj1",
        "outputId": "18541b29-d431-41d4-b674-ae775d1469a8"
      },
      "outputs": [
        {
          "name": "stdout",
          "output_type": "stream",
          "text": [
            "<class 'pandas.core.frame.DataFrame'>\n",
            "RangeIndex: 731 entries, 0 to 730\n",
            "Data columns (total 16 columns):\n",
            " #   Column      Non-Null Count  Dtype  \n",
            "---  ------      --------------  -----  \n",
            " 0   instant     731 non-null    int64  \n",
            " 1   dteday      731 non-null    object \n",
            " 2   season      731 non-null    int64  \n",
            " 3   yr          731 non-null    int64  \n",
            " 4   mnth        731 non-null    int64  \n",
            " 5   holiday     731 non-null    int64  \n",
            " 6   weekday     731 non-null    int64  \n",
            " 7   workingday  731 non-null    int64  \n",
            " 8   weathersit  731 non-null    int64  \n",
            " 9   temp        731 non-null    float64\n",
            " 10  atemp       731 non-null    float64\n",
            " 11  hum         731 non-null    float64\n",
            " 12  windspeed   731 non-null    float64\n",
            " 13  casual      731 non-null    int64  \n",
            " 14  registered  731 non-null    int64  \n",
            " 15  cnt         731 non-null    int64  \n",
            "dtypes: float64(4), int64(11), object(1)\n",
            "memory usage: 91.5+ KB\n"
          ]
        }
      ],
      "source": [
        "#Cek informasi\n",
        "df.info()"
      ]
    },
    {
      "cell_type": "code",
      "execution_count": 5,
      "metadata": {
        "colab": {
          "base_uri": "https://localhost:8080/"
        },
        "id": "AzZXjpKrXn1N",
        "outputId": "2d41d373-170c-4f3d-9707-c36c16e546f5"
      },
      "outputs": [
        {
          "data": {
            "text/plain": [
              "instant       0\n",
              "dteday        0\n",
              "season        0\n",
              "yr            0\n",
              "mnth          0\n",
              "holiday       0\n",
              "weekday       0\n",
              "workingday    0\n",
              "weathersit    0\n",
              "temp          0\n",
              "atemp         0\n",
              "hum           0\n",
              "windspeed     0\n",
              "casual        0\n",
              "registered    0\n",
              "cnt           0\n",
              "dtype: int64"
            ]
          },
          "execution_count": 5,
          "metadata": {},
          "output_type": "execute_result"
        }
      ],
      "source": [
        "#Mengecek missing values\n",
        "df.isnull().sum()"
      ]
    },
    {
      "cell_type": "code",
      "execution_count": 6,
      "metadata": {
        "colab": {
          "base_uri": "https://localhost:8080/"
        },
        "id": "gzM8mC4bX4Vp",
        "outputId": "30def980-bb79-4dc7-afa9-dcae87491740"
      },
      "outputs": [
        {
          "data": {
            "text/plain": [
              "0"
            ]
          },
          "execution_count": 6,
          "metadata": {},
          "output_type": "execute_result"
        }
      ],
      "source": [
        "#Mengecek duplikasi data\n",
        "df.duplicated().sum()"
      ]
    },
    {
      "cell_type": "code",
      "execution_count": 7,
      "metadata": {
        "colab": {
          "base_uri": "https://localhost:8080/"
        },
        "id": "Oh2jIYFlYjG2",
        "outputId": "522011e3-8d06-476c-de57-44644bd156f3"
      },
      "outputs": [
        {
          "name": "stdout",
          "output_type": "stream",
          "text": [
            "Jumlah total pengguna sepeda yang tidak akurat (negatif): 0\n"
          ]
        }
      ],
      "source": [
        "#Mengecek apakah ada inaccurate data\n",
        "invalid_cnt = df[df['cnt'] < 0]\n",
        "print(f\"Jumlah total pengguna sepeda yang tidak akurat (negatif): {len(invalid_cnt)}\")"
      ]
    },
    {
      "cell_type": "markdown",
      "metadata": {
        "id": "7dtxhAPrkhPL"
      },
      "source": [
        "**Insight:**\n",
        "1. Tidak ditemukan **missing values**, **duplikasi data**, atau **inaccurate data**, sehingga data bersih.\n",
        "   \n",
        "2. Sebagian besar variabel memiliki tipe data yang sesuai, kecuali kolom **`dteday`**, yang bisa diubah dari tipe **object** ke **datetime** untuk memudahkan analisis."
      ]
    },
    {
      "cell_type": "markdown",
      "metadata": {
        "id": "EhN5R4hr8DC1"
      },
      "source": [
        "### Cleaning Data"
      ]
    },
    {
      "cell_type": "code",
      "execution_count": 8,
      "metadata": {
        "id": "jVnYpprE9Evz"
      },
      "outputs": [],
      "source": [
        "#Mengubah tipe data pada 'dteday' ke format datetime\n",
        "df['dteday'] = pd.to_datetime(df['dteday'])"
      ]
    },
    {
      "cell_type": "code",
      "execution_count": 9,
      "metadata": {
        "colab": {
          "base_uri": "https://localhost:8080/"
        },
        "id": "onDB13T6bbFJ",
        "outputId": "6d4a2104-8448-4c1e-af22-e3f6266bfbca"
      },
      "outputs": [
        {
          "name": "stdout",
          "output_type": "stream",
          "text": [
            "<class 'pandas.core.frame.DataFrame'>\n",
            "RangeIndex: 731 entries, 0 to 730\n",
            "Data columns (total 16 columns):\n",
            " #   Column      Non-Null Count  Dtype         \n",
            "---  ------      --------------  -----         \n",
            " 0   instant     731 non-null    int64         \n",
            " 1   dteday      731 non-null    datetime64[ns]\n",
            " 2   season      731 non-null    int64         \n",
            " 3   yr          731 non-null    int64         \n",
            " 4   mnth        731 non-null    int64         \n",
            " 5   holiday     731 non-null    int64         \n",
            " 6   weekday     731 non-null    int64         \n",
            " 7   workingday  731 non-null    int64         \n",
            " 8   weathersit  731 non-null    int64         \n",
            " 9   temp        731 non-null    float64       \n",
            " 10  atemp       731 non-null    float64       \n",
            " 11  hum         731 non-null    float64       \n",
            " 12  windspeed   731 non-null    float64       \n",
            " 13  casual      731 non-null    int64         \n",
            " 14  registered  731 non-null    int64         \n",
            " 15  cnt         731 non-null    int64         \n",
            "dtypes: datetime64[ns](1), float64(4), int64(11)\n",
            "memory usage: 91.5 KB\n"
          ]
        }
      ],
      "source": [
        "#Cek data setelah diubah\n",
        "df.info()"
      ]
    },
    {
      "cell_type": "markdown",
      "metadata": {
        "id": "Q_5ejIqckiSP"
      },
      "source": [
        "**Insight:**\n",
        "1. Dalam proses ini, kolom `dteday` diubah dari tipe object menjadi datetime untuk memudahkan analisis."
      ]
    },
    {
      "cell_type": "markdown",
      "metadata": {
        "id": "gp-Y6wU38DC1"
      },
      "source": [
        "## Exploratory Data Analysis (EDA)"
      ]
    },
    {
      "cell_type": "markdown",
      "metadata": {
        "id": "MW7WF2kr8DC1"
      },
      "source": [
        "### Explore `df`"
      ]
    },
    {
      "cell_type": "code",
      "execution_count": 10,
      "metadata": {
        "colab": {
          "base_uri": "https://localhost:8080/",
          "height": 676
        },
        "id": "JUpVj7UyMFA_",
        "outputId": "abcb81fe-ac30-450d-9b8b-e6de7863cce7"
      },
      "outputs": [
        {
          "data": {
            "application/vnd.microsoft.datawrangler.viewer.v0+json": {
              "columns": [
                {
                  "name": "index",
                  "rawType": "int64",
                  "type": "integer"
                },
                {
                  "name": "instant",
                  "rawType": "int64",
                  "type": "integer"
                },
                {
                  "name": "dteday",
                  "rawType": "datetime64[ns]",
                  "type": "datetime"
                },
                {
                  "name": "season",
                  "rawType": "int64",
                  "type": "integer"
                },
                {
                  "name": "yr",
                  "rawType": "int64",
                  "type": "integer"
                },
                {
                  "name": "mnth",
                  "rawType": "int64",
                  "type": "integer"
                },
                {
                  "name": "holiday",
                  "rawType": "int64",
                  "type": "integer"
                },
                {
                  "name": "weekday",
                  "rawType": "int64",
                  "type": "integer"
                },
                {
                  "name": "workingday",
                  "rawType": "int64",
                  "type": "integer"
                },
                {
                  "name": "weathersit",
                  "rawType": "int64",
                  "type": "integer"
                },
                {
                  "name": "temp",
                  "rawType": "float64",
                  "type": "float"
                },
                {
                  "name": "atemp",
                  "rawType": "float64",
                  "type": "float"
                },
                {
                  "name": "hum",
                  "rawType": "float64",
                  "type": "float"
                },
                {
                  "name": "windspeed",
                  "rawType": "float64",
                  "type": "float"
                },
                {
                  "name": "casual",
                  "rawType": "int64",
                  "type": "integer"
                },
                {
                  "name": "registered",
                  "rawType": "int64",
                  "type": "integer"
                },
                {
                  "name": "cnt",
                  "rawType": "int64",
                  "type": "integer"
                }
              ],
              "conversionMethod": "pd.DataFrame",
              "ref": "d2171588-c0e4-4e68-b327-92d62934246f",
              "rows": [
                [
                  "385",
                  "386",
                  "2012-01-21 00:00:00",
                  "1",
                  "1",
                  "1",
                  "0",
                  "6",
                  "0",
                  "2",
                  "0.173333",
                  "0.174875",
                  "0.83125",
                  "0.222642",
                  "67",
                  "1234",
                  "1301"
                ],
                [
                  "528",
                  "529",
                  "2012-06-12 00:00:00",
                  "2",
                  "1",
                  "6",
                  "0",
                  "2",
                  "1",
                  "2",
                  "0.653333",
                  "0.597875",
                  "0.833333",
                  "0.214546",
                  "477",
                  "4495",
                  "4972"
                ],
                [
                  "702",
                  "703",
                  "2012-12-03 00:00:00",
                  "4",
                  "1",
                  "12",
                  "0",
                  "1",
                  "1",
                  "1",
                  "0.4525",
                  "0.455796",
                  "0.7675",
                  "0.0827208",
                  "555",
                  "5679",
                  "6234"
                ],
                [
                  "525",
                  "526",
                  "2012-06-09 00:00:00",
                  "2",
                  "1",
                  "6",
                  "0",
                  "6",
                  "0",
                  "1",
                  "0.710833",
                  "0.648367",
                  "0.437083",
                  "0.144287",
                  "2708",
                  "4790",
                  "7498"
                ],
                [
                  "386",
                  "387",
                  "2012-01-22 00:00:00",
                  "1",
                  "1",
                  "1",
                  "0",
                  "0",
                  "0",
                  "2",
                  "0.1625",
                  "0.16225",
                  "0.79625",
                  "0.199638",
                  "196",
                  "1781",
                  "1977"
                ],
                [
                  "133",
                  "134",
                  "2011-05-14 00:00:00",
                  "2",
                  "0",
                  "5",
                  "0",
                  "6",
                  "0",
                  "2",
                  "0.520833",
                  "0.500629",
                  "0.9225",
                  "0.13495",
                  "902",
                  "2507",
                  "3409"
                ],
                [
                  "437",
                  "438",
                  "2012-03-13 00:00:00",
                  "1",
                  "1",
                  "3",
                  "0",
                  "2",
                  "1",
                  "1",
                  "0.565",
                  "0.542929",
                  "0.6175",
                  "0.23695",
                  "762",
                  "5085",
                  "5847"
                ],
                [
                  "118",
                  "119",
                  "2011-04-29 00:00:00",
                  "2",
                  "0",
                  "4",
                  "0",
                  "5",
                  "1",
                  "1",
                  "0.51",
                  "0.497463",
                  "0.457083",
                  "0.240063",
                  "878",
                  "3717",
                  "4595"
                ],
                [
                  "618",
                  "619",
                  "2012-09-10 00:00:00",
                  "3",
                  "1",
                  "9",
                  "0",
                  "1",
                  "1",
                  "1",
                  "0.583333",
                  "0.565654",
                  "0.50375",
                  "0.258713",
                  "1118",
                  "6407",
                  "7525"
                ],
                [
                  "309",
                  "310",
                  "2011-11-06 00:00:00",
                  "4",
                  "0",
                  "11",
                  "0",
                  "0",
                  "0",
                  "1",
                  "0.348333",
                  "0.362358",
                  "0.734583",
                  "0.0920542",
                  "952",
                  "2697",
                  "3649"
                ]
              ],
              "shape": {
                "columns": 16,
                "rows": 10
              }
            },
            "text/html": [
              "<div>\n",
              "<style scoped>\n",
              "    .dataframe tbody tr th:only-of-type {\n",
              "        vertical-align: middle;\n",
              "    }\n",
              "\n",
              "    .dataframe tbody tr th {\n",
              "        vertical-align: top;\n",
              "    }\n",
              "\n",
              "    .dataframe thead th {\n",
              "        text-align: right;\n",
              "    }\n",
              "</style>\n",
              "<table border=\"1\" class=\"dataframe\">\n",
              "  <thead>\n",
              "    <tr style=\"text-align: right;\">\n",
              "      <th></th>\n",
              "      <th>instant</th>\n",
              "      <th>dteday</th>\n",
              "      <th>season</th>\n",
              "      <th>yr</th>\n",
              "      <th>mnth</th>\n",
              "      <th>holiday</th>\n",
              "      <th>weekday</th>\n",
              "      <th>workingday</th>\n",
              "      <th>weathersit</th>\n",
              "      <th>temp</th>\n",
              "      <th>atemp</th>\n",
              "      <th>hum</th>\n",
              "      <th>windspeed</th>\n",
              "      <th>casual</th>\n",
              "      <th>registered</th>\n",
              "      <th>cnt</th>\n",
              "    </tr>\n",
              "  </thead>\n",
              "  <tbody>\n",
              "    <tr>\n",
              "      <th>385</th>\n",
              "      <td>386</td>\n",
              "      <td>2012-01-21</td>\n",
              "      <td>1</td>\n",
              "      <td>1</td>\n",
              "      <td>1</td>\n",
              "      <td>0</td>\n",
              "      <td>6</td>\n",
              "      <td>0</td>\n",
              "      <td>2</td>\n",
              "      <td>0.173333</td>\n",
              "      <td>0.174875</td>\n",
              "      <td>0.831250</td>\n",
              "      <td>0.222642</td>\n",
              "      <td>67</td>\n",
              "      <td>1234</td>\n",
              "      <td>1301</td>\n",
              "    </tr>\n",
              "    <tr>\n",
              "      <th>528</th>\n",
              "      <td>529</td>\n",
              "      <td>2012-06-12</td>\n",
              "      <td>2</td>\n",
              "      <td>1</td>\n",
              "      <td>6</td>\n",
              "      <td>0</td>\n",
              "      <td>2</td>\n",
              "      <td>1</td>\n",
              "      <td>2</td>\n",
              "      <td>0.653333</td>\n",
              "      <td>0.597875</td>\n",
              "      <td>0.833333</td>\n",
              "      <td>0.214546</td>\n",
              "      <td>477</td>\n",
              "      <td>4495</td>\n",
              "      <td>4972</td>\n",
              "    </tr>\n",
              "    <tr>\n",
              "      <th>702</th>\n",
              "      <td>703</td>\n",
              "      <td>2012-12-03</td>\n",
              "      <td>4</td>\n",
              "      <td>1</td>\n",
              "      <td>12</td>\n",
              "      <td>0</td>\n",
              "      <td>1</td>\n",
              "      <td>1</td>\n",
              "      <td>1</td>\n",
              "      <td>0.452500</td>\n",
              "      <td>0.455796</td>\n",
              "      <td>0.767500</td>\n",
              "      <td>0.082721</td>\n",
              "      <td>555</td>\n",
              "      <td>5679</td>\n",
              "      <td>6234</td>\n",
              "    </tr>\n",
              "    <tr>\n",
              "      <th>525</th>\n",
              "      <td>526</td>\n",
              "      <td>2012-06-09</td>\n",
              "      <td>2</td>\n",
              "      <td>1</td>\n",
              "      <td>6</td>\n",
              "      <td>0</td>\n",
              "      <td>6</td>\n",
              "      <td>0</td>\n",
              "      <td>1</td>\n",
              "      <td>0.710833</td>\n",
              "      <td>0.648367</td>\n",
              "      <td>0.437083</td>\n",
              "      <td>0.144287</td>\n",
              "      <td>2708</td>\n",
              "      <td>4790</td>\n",
              "      <td>7498</td>\n",
              "    </tr>\n",
              "    <tr>\n",
              "      <th>386</th>\n",
              "      <td>387</td>\n",
              "      <td>2012-01-22</td>\n",
              "      <td>1</td>\n",
              "      <td>1</td>\n",
              "      <td>1</td>\n",
              "      <td>0</td>\n",
              "      <td>0</td>\n",
              "      <td>0</td>\n",
              "      <td>2</td>\n",
              "      <td>0.162500</td>\n",
              "      <td>0.162250</td>\n",
              "      <td>0.796250</td>\n",
              "      <td>0.199638</td>\n",
              "      <td>196</td>\n",
              "      <td>1781</td>\n",
              "      <td>1977</td>\n",
              "    </tr>\n",
              "    <tr>\n",
              "      <th>133</th>\n",
              "      <td>134</td>\n",
              "      <td>2011-05-14</td>\n",
              "      <td>2</td>\n",
              "      <td>0</td>\n",
              "      <td>5</td>\n",
              "      <td>0</td>\n",
              "      <td>6</td>\n",
              "      <td>0</td>\n",
              "      <td>2</td>\n",
              "      <td>0.520833</td>\n",
              "      <td>0.500629</td>\n",
              "      <td>0.922500</td>\n",
              "      <td>0.134950</td>\n",
              "      <td>902</td>\n",
              "      <td>2507</td>\n",
              "      <td>3409</td>\n",
              "    </tr>\n",
              "    <tr>\n",
              "      <th>437</th>\n",
              "      <td>438</td>\n",
              "      <td>2012-03-13</td>\n",
              "      <td>1</td>\n",
              "      <td>1</td>\n",
              "      <td>3</td>\n",
              "      <td>0</td>\n",
              "      <td>2</td>\n",
              "      <td>1</td>\n",
              "      <td>1</td>\n",
              "      <td>0.565000</td>\n",
              "      <td>0.542929</td>\n",
              "      <td>0.617500</td>\n",
              "      <td>0.236950</td>\n",
              "      <td>762</td>\n",
              "      <td>5085</td>\n",
              "      <td>5847</td>\n",
              "    </tr>\n",
              "    <tr>\n",
              "      <th>118</th>\n",
              "      <td>119</td>\n",
              "      <td>2011-04-29</td>\n",
              "      <td>2</td>\n",
              "      <td>0</td>\n",
              "      <td>4</td>\n",
              "      <td>0</td>\n",
              "      <td>5</td>\n",
              "      <td>1</td>\n",
              "      <td>1</td>\n",
              "      <td>0.510000</td>\n",
              "      <td>0.497463</td>\n",
              "      <td>0.457083</td>\n",
              "      <td>0.240063</td>\n",
              "      <td>878</td>\n",
              "      <td>3717</td>\n",
              "      <td>4595</td>\n",
              "    </tr>\n",
              "    <tr>\n",
              "      <th>618</th>\n",
              "      <td>619</td>\n",
              "      <td>2012-09-10</td>\n",
              "      <td>3</td>\n",
              "      <td>1</td>\n",
              "      <td>9</td>\n",
              "      <td>0</td>\n",
              "      <td>1</td>\n",
              "      <td>1</td>\n",
              "      <td>1</td>\n",
              "      <td>0.583333</td>\n",
              "      <td>0.565654</td>\n",
              "      <td>0.503750</td>\n",
              "      <td>0.258713</td>\n",
              "      <td>1118</td>\n",
              "      <td>6407</td>\n",
              "      <td>7525</td>\n",
              "    </tr>\n",
              "    <tr>\n",
              "      <th>309</th>\n",
              "      <td>310</td>\n",
              "      <td>2011-11-06</td>\n",
              "      <td>4</td>\n",
              "      <td>0</td>\n",
              "      <td>11</td>\n",
              "      <td>0</td>\n",
              "      <td>0</td>\n",
              "      <td>0</td>\n",
              "      <td>1</td>\n",
              "      <td>0.348333</td>\n",
              "      <td>0.362358</td>\n",
              "      <td>0.734583</td>\n",
              "      <td>0.092054</td>\n",
              "      <td>952</td>\n",
              "      <td>2697</td>\n",
              "      <td>3649</td>\n",
              "    </tr>\n",
              "  </tbody>\n",
              "</table>\n",
              "</div>"
            ],
            "text/plain": [
              "     instant     dteday  season  yr  mnth  holiday  weekday  workingday  \\\n",
              "385      386 2012-01-21       1   1     1        0        6           0   \n",
              "528      529 2012-06-12       2   1     6        0        2           1   \n",
              "702      703 2012-12-03       4   1    12        0        1           1   \n",
              "525      526 2012-06-09       2   1     6        0        6           0   \n",
              "386      387 2012-01-22       1   1     1        0        0           0   \n",
              "133      134 2011-05-14       2   0     5        0        6           0   \n",
              "437      438 2012-03-13       1   1     3        0        2           1   \n",
              "118      119 2011-04-29       2   0     4        0        5           1   \n",
              "618      619 2012-09-10       3   1     9        0        1           1   \n",
              "309      310 2011-11-06       4   0    11        0        0           0   \n",
              "\n",
              "     weathersit      temp     atemp       hum  windspeed  casual  registered  \\\n",
              "385           2  0.173333  0.174875  0.831250   0.222642      67        1234   \n",
              "528           2  0.653333  0.597875  0.833333   0.214546     477        4495   \n",
              "702           1  0.452500  0.455796  0.767500   0.082721     555        5679   \n",
              "525           1  0.710833  0.648367  0.437083   0.144287    2708        4790   \n",
              "386           2  0.162500  0.162250  0.796250   0.199638     196        1781   \n",
              "133           2  0.520833  0.500629  0.922500   0.134950     902        2507   \n",
              "437           1  0.565000  0.542929  0.617500   0.236950     762        5085   \n",
              "118           1  0.510000  0.497463  0.457083   0.240063     878        3717   \n",
              "618           1  0.583333  0.565654  0.503750   0.258713    1118        6407   \n",
              "309           1  0.348333  0.362358  0.734583   0.092054     952        2697   \n",
              "\n",
              "      cnt  \n",
              "385  1301  \n",
              "528  4972  \n",
              "702  6234  \n",
              "525  7498  \n",
              "386  1977  \n",
              "133  3409  \n",
              "437  5847  \n",
              "118  4595  \n",
              "618  7525  \n",
              "309  3649  "
            ]
          },
          "execution_count": 10,
          "metadata": {},
          "output_type": "execute_result"
        }
      ],
      "source": [
        "# Tampilkan sampel acak\n",
        "df.sample(10)"
      ]
    },
    {
      "cell_type": "markdown",
      "metadata": {
        "id": "zsyZjqak8DC2"
      },
      "source": [
        "## Visualization & Explanatory Analysis"
      ]
    },
    {
      "cell_type": "markdown",
      "metadata": {
        "id": "HZxOiQ6n8DC2"
      },
      "source": [
        "### Pertanyaan 1: Berapa rata-rata jumlah pengguna sepeda pada hari kerja dibandingkan dengan hari libur?"
      ]
    },
    {
      "cell_type": "code",
      "execution_count": 11,
      "metadata": {
        "colab": {
          "base_uri": "https://localhost:8080/",
          "height": 610
        },
        "id": "1swJUdAD8DC2",
        "outputId": "139c1547-d229-4576-9376-3aba83f89fb6"
      },
      "outputs": [
        {
          "name": "stderr",
          "output_type": "stream",
          "text": [
            "C:\\Users\\nurri\\AppData\\Local\\Temp\\ipykernel_18520\\358333428.py:16: FutureWarning: \n",
            "\n",
            "Passing `palette` without assigning `hue` is deprecated and will be removed in v0.14.0. Assign the `x` variable to `hue` and set `legend=False` for the same effect.\n",
            "\n",
            "  sns.barplot(data=avg_df, x='Hari', y='Rata-rata Pengguna', palette=['red', 'blue'])\n"
          ]
        },
        {
          "data": {
            "image/png": "[encoded data removed]",
            "text/plain": [
              "<Figure size 800x600 with 1 Axes>"
            ]
          },
          "metadata": {},
          "output_type": "display_data"
        },
        {
          "name": "stdout",
          "output_type": "stream",
          "text": [
            "Rata-rata jumlah pengguna sepeda pada hari kerja adalah 4584.82 orang.\n",
            "Rata-rata jumlah pengguna sepeda pada hari libur adalah 4330.17 orang.\n"
          ]
        }
      ],
      "source": [
        "# Menambahkan kolom untuk memisahkan hari kerja dan hari libur\n",
        "df['Hari'] = df['workingday'].apply(lambda x: 'Hari Kerja' if x == 1 else 'Hari Libur')\n",
        "\n",
        "# Menghitung rata-rata jumlah pengguna sepeda untuk hari kerja dan hari libur\n",
        "working_day_avg = df[df['workingday'] == 1]['cnt'].mean()\n",
        "holiday_avg = df[df['workingday'] == 0]['cnt'].mean()\n",
        "\n",
        "# Membuat DataFrame baru untuk visualisasi\n",
        "avg_df = pd.DataFrame({\n",
        "    'Hari': ['Hari Kerja', 'Hari Libur'],\n",
        "    'Rata-rata Pengguna': [working_day_avg, holiday_avg]\n",
        "})\n",
        "\n",
        "# Visualisasi Barplot\n",
        "plt.figure(figsize=(8,6))\n",
        "sns.barplot(data=avg_df, x='Hari', y='Rata-rata Pengguna', palette=['red', 'blue'])\n",
        "plt.title('Rata-rata Jumlah Pengguna Sepeda: Hari Kerja vs Hari Libur', fontsize=15)\n",
        "plt.ylabel('Rata-rata Jumlah Pengguna Sepeda')\n",
        "plt.show()\n",
        "\n",
        "# Menambahkan output teks\n",
        "print(f\"Rata-rata jumlah pengguna sepeda pada hari kerja adalah {working_day_avg:.2f} orang.\")\n",
        "print(f\"Rata-rata jumlah pengguna sepeda pada hari libur adalah {holiday_avg:.2f} orang.\")"
      ]
    },
    {
      "cell_type": "code",
      "execution_count": 12,
      "metadata": {
        "colab": {
          "base_uri": "https://localhost:8080/",
          "height": 632
        },
        "id": "PBw3ZjlTa66Z",
        "outputId": "11162170-4115-4ae7-8dee-8ecead924f5f"
      },
      "outputs": [
        {
          "data": {
            "image/png": "[encoded data removed]",
            "text/plain": [
              "<Figure size 1000x600 with 1 Axes>"
            ]
          },
          "metadata": {},
          "output_type": "display_data"
        },
        {
          "name": "stdout",
          "output_type": "stream",
          "text": [
            "Terdapat 500 hari kerja dan 231 hari libur dalam dataset.\n"
          ]
        }
      ],
      "source": [
        "import warnings\n",
        "\n",
        "# Menonaktifkan FutureWarning\n",
        "warnings.simplefilter(action='ignore', category=FutureWarning)\n",
        "\n",
        "# Line plot untuk tren pengguna sepeda berdasarkan hari kerja dan hari libur\n",
        "df['dteday'] = pd.to_datetime(df['dteday'])\n",
        "plt.figure(figsize=(10,6))\n",
        "sns.lineplot(data=df, x='dteday', y='cnt', hue='Hari', palette='Set2')\n",
        "plt.title('Tren Pengguna Sepeda: Hari Kerja vs Hari Libur', fontsize=15)\n",
        "plt.ylabel('Jumlah Pengguna Sepeda')\n",
        "plt.xlabel('Tanggal')\n",
        "plt.xticks(rotation=45)\n",
        "plt.show()\n",
        "\n",
        "# Menambahkan output teks\n",
        "total_working_days = len(df[df['workingday'] == 1])\n",
        "total_holidays = len(df[df['workingday'] == 0])\n",
        "print(f\"Terdapat {total_working_days} hari kerja dan {total_holidays} hari libur dalam dataset.\")"
      ]
    },
    {
      "cell_type": "markdown",
      "metadata": {
        "id": "Dolrko0kb2Bw"
      },
      "source": [
        "**Insight:**\n",
        "\n",
        "1. **Penggunaan Sepeda yang Lebih Tinggi pada Hari Kerja**: Rata-rata jumlah pengguna sepeda lebih tinggi pada hari kerja (4,584.82 orang) dibandingkan dengan hari libur (4,330.17 orang), menunjukkan bahwa sepeda lebih sering digunakan sebagai alat transportasi di hari kerja.\n",
        "\n",
        "2. **Fluktuasi pada Hari Libur**: Meskipun rata-rata penggunaan sepeda di hari libur masih cukup signifikan, terdapat fluktuasi yang lebih besar dalam jumlah pengguna sepeda. Hal ini dapat disebabkan oleh faktor eksternal seperti cuaca atau kegiatan rekreasi yang mempengaruhi keputusan untuk bersepeda."
      ]
    },
    {
      "cell_type": "markdown",
      "metadata": {
        "id": "DgHI7CiU8DC2"
      },
      "source": [
        "### Pertanyaan 2: Bagaimana suhu mempengaruhi jumlah pengguna sepeda harian?"
      ]
    },
    {
      "cell_type": "code",
      "execution_count": 13,
      "metadata": {
        "colab": {
          "base_uri": "https://localhost:8080/",
          "height": 575
        },
        "id": "IhZUa2JqecGc",
        "outputId": "7ca68b9a-c5d7-4d6a-c48b-783b266ee728"
      },
      "outputs": [
        {
          "data": {
            "image/png": "[encoded data removed]",
            "text/plain": [
              "<Figure size 1000x600 with 1 Axes>"
            ]
          },
          "metadata": {},
          "output_type": "display_data"
        }
      ],
      "source": [
        "# Menentukan kategori suhu\n",
        "def categorize_temp(temp):\n",
        "    if temp < 0.2:\n",
        "        return 'Rendah'\n",
        "    elif 0.2 <= temp < 0.6:\n",
        "        return 'Sedang'\n",
        "    else:\n",
        "        return 'Tinggi'\n",
        "\n",
        "df['Temp Kategori'] = df['temp'].apply(categorize_temp)\n",
        "\n",
        "plt.figure(figsize=(10, 6))\n",
        "sns.boxplot(data=df, x='Temp Kategori', y='cnt', palette='Set2')\n",
        "plt.title('Distribusi Pengguna Sepeda Berdasarkan Kategori Suhu', fontsize=15)\n",
        "plt.ylabel('Jumlah Pengguna Sepeda')\n",
        "plt.xlabel('Kategori Suhu')\n",
        "plt.show()"
      ]
    },
    {
      "cell_type": "code",
      "execution_count": 14,
      "metadata": {
        "colab": {
          "base_uri": "https://localhost:8080/",
          "height": 575
        },
        "id": "54H9asimevw3",
        "outputId": "a05707da-5e0d-4c73-8bca-acc555fce960"
      },
      "outputs": [
        {
          "data": {
            "image/png": "[encoded data removed]",
            "text/plain": [
              "<Figure size 1000x600 with 1 Axes>"
            ]
          },
          "metadata": {},
          "output_type": "display_data"
        }
      ],
      "source": [
        "plt.figure(figsize=(10, 6))\n",
        "sns.violinplot(data=df, x='Temp Kategori', y='cnt', palette='Set2')\n",
        "plt.title('Distribusi dan Kepadatan Pengguna Sepeda Berdasarkan Kategori Suhu', fontsize=15)\n",
        "plt.ylabel('Jumlah Pengguna Sepeda')\n",
        "plt.xlabel('Kategori Suhu')\n",
        "plt.show()"
      ]
    },
    {
      "cell_type": "markdown",
      "metadata": {
        "id": "_0-36BDLklRg"
      },
      "source": [
        "**Insight:**\n",
        "\n",
        "\n",
        "1. **Distribusi Berdasarkan Kategori Suhu**: Boxplot menunjukkan bahwa pada kategori suhu tinggi, terdapat rentang pengguna sepeda yang lebih luas, mengindikasikan bahwa suhu yang lebih hangat dapat mendorong variasi penggunaan sepeda. Sebaliknya, pada suhu rendah, jumlah pengguna sepeda cenderung sedikit dan terdistribusi lebih sempit, mencerminkan bahwa kondisi dingin mengurangi minat untuk bersepeda.\n",
        "\n",
        "2. **Kepadatan Pengguna pada Suhu Sedang**: Violin plot memperlihatkan bahwa pada suhu sedang, terdapat kepadatan pengguna sepeda yang lebih tinggi. Ini menunjukkan bahwa suhu yang nyaman cenderung menarik lebih banyak orang untuk menggunakan sepeda sebagai pilihan transportasi."
      ]
    },
    {
      "cell_type": "markdown",
      "metadata": {
        "id": "_WeHlCeX8DC2"
      },
      "source": [
        "## Conclusion"
      ]
    },
    {
      "cell_type": "markdown",
      "metadata": {
        "id": "ZTcyR48Y8DC2"
      },
      "source": [
        "1. Conclution pertanyaan 1\n",
        "- Sepeda lebih sering digunakan sebagai alat transportasi pada hari kerja, dengan rata-rata jumlah pengguna mencapai 4,584.82 orang, dibandingkan dengan 4,330.17 orang pada hari libur. Meskipun penggunaan sepeda pada hari libur tetap signifikan, terdapat fluktuasi yang lebih besar yang dapat dipengaruhi oleh faktor eksternal seperti cuaca atau kegiatan rekreasi.\n",
        "2.  Conclution pertanyaan 2\n",
        "- Distribusi pengguna sepeda berdasarkan kategori suhu menunjukkan bahwa suhu berperan penting dalam memengaruhi tingkat penggunaan sepeda. Boxplot mengindikasikan bahwa pada kategori suhu tinggi, terdapat variasi yang lebih besar dalam jumlah pengguna, yang menunjukkan bahwa suhu hangat dapat mendorong lebih banyak orang untuk bersepeda. Di sisi lain, suhu rendah cenderung mengurangi minat bersepeda, dengan distribusi yang lebih sempit. Violin plot menunjukkan kepadatan pengguna yang lebih tinggi pada suhu sedang, menandakan bahwa suhu yang nyaman menarik lebih banyak pengguna."
      ]
    }
  ],
  "metadata": {
    "colab": {
      "provenance": []
    },
    "kernelspec": {
      "display_name": "Python 3",
      "language": "python",
      "name": "python3"
    },
    "language_info": {
      "codemirror_mode": {
        "name": "ipython",
        "version": 3
      },
      "file_extension": ".py",
      "mimetype": "text/x-python",
      "name": "python",
      "nbconvert_exporter": "python",
      "pygments_lexer": "ipython3",
      "version": "3.11.9"
    },
    "orig_nbformat": 4,
    "vscode": {
      "interpreter": {
        "hash": "972b3bf27e332e87b5379f2791f6ef9dfc79c71018c370b0d7423235e20fe4d7"
      }
    }
  },
  "nbformat": 4,
  "nbformat_minor": 0
}
